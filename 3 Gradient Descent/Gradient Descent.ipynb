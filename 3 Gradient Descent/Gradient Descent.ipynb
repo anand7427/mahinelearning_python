{
 "cells": [
  {
   "cell_type": "markdown",
   "metadata": {},
   "source": [
    "# Gradient Descent\n",
    "\n",
    "Inspired [Chris McCormick on Gradient Descent Derivation](http://mccormickml.com/2014/03/04/gradient-descent-derivation/)"
   ]
  },
  {
   "cell_type": "markdown",
   "metadata": {},
   "source": [
    "https://www.python-course.eu/object_oriented_programming.php"
   ]
  },
  {
   "cell_type": "markdown",
   "metadata": {},
   "source": [
    "# Background\n",
    "\n",
    "$h(x) = \\theta_0 + \\theta_1X$\n",
    "\n",
    "Find the values of $\\theta_0$ and $\\theta_1$ which provide the best fit of our hypothesis to a training set. \n",
    "\n",
    "The training set examples are labeled $x$, $y$, \n",
    "\n",
    "$x$ is the input value and $y$ is the output. \n",
    "\n",
    "The $i$th training example is labeled as $x^{(i)}$, $y^{(i)}$."
   ]
  },
  {
   "cell_type": "markdown",
   "metadata": {},
   "source": [
    "## MSE Cost Function\n",
    "\n",
    "The cost function $J$ for a particular choice of parameters $\\theta$ is the mean squared error (MSE):\n",
    "\n",
    "$$J(\\theta)=\\frac{1}{m}\\sum_{i=1}^m(h_{\\theta}(x^{(i)})-y^{(i)})^2$$\n",
    "\n",
    "$m$ The number of training examples\n",
    "\n",
    "$x^{(i)}$ The input vector for the $i^{th}$ training example\n",
    "\n",
    "$y^{(i)}$ The class label for the $i^{th}$ training example\n",
    "\n",
    "$\\theta$ The chosen parameter values of \"weights\" ($\\theta_0, \\theta_1, \\theta_2$)\n",
    "\n",
    "$h_{\\theta}(x^{(i)})$ The algorithm's prediction for the $i^{th}$ training example using the parameters $\\theta$\n",
    "\n",
    "The MSE measures the mean amount that the model's predictions deviate from the correct values.\n",
    "\n",
    "It is a measure of the model's performance on the training set. \n",
    "\n",
    "The cost is higher when the model is performing poorly on the training set. \n",
    "\n",
    "The objective of the learning algorithm is to find the parameters $\\theta$ which give the minimum possible cost $J$."
   ]
  },
  {
   "cell_type": "markdown",
   "metadata": {},
   "source": [
    "This minimization objective is expressed using the following notation, which simply states that we want to find the $\\theta$ which minimizes the cost $J(\\theta)$.\n",
    "\n",
    "$$\\min_{\\theta}J(\\theta)$$\n",
    "\n"
   ]
  },
  {
   "cell_type": "markdown",
   "metadata": {},
   "source": [
    "# Example One"
   ]
  },
  {
   "cell_type": "markdown",
   "metadata": {},
   "source": [
    "# Gradient Descent Minimization\n",
    "\n",
    "Assume the cost function is:\n",
    "\n",
    "$$J(\\theta)=\\theta^2$$\n",
    "\n",
    "And we want to find the value of $\\theta$ which minimises $J(\\theta)$\n",
    "\n",
    "Assume further we starts with $\\theta=3$"
   ]
  },
  {
   "cell_type": "markdown",
   "metadata": {},
   "source": [
    "Gradient descent is an iterative algorithm which we will run many times. \n",
    "\n",
    "On each iteration, we apply the following \"update rule\" (the $:=$ symbol means replace $\\theta$ with the value computed on the right):\n",
    "\n",
    "$$\\theta:=\\theta-\\alpha\\frac{d}{d\\theta}J(\\theta)$$\n",
    "\n",
    "Alpha is the learning rate. \n",
    "\n",
    "Assume $\\alpha$ = 0.1 for now.\n",
    "\n",
    "$$\\frac{d}{d\\theta}J(\\theta)=2\\theta$$\n",
    "\n",
    "\n",
    "\n"
   ]
  },
  {
   "cell_type": "code",
   "execution_count": 1,
   "metadata": {},
   "outputs": [],
   "source": [
    "import pandas as pd\n",
    "import numpy as np\n",
    "import matplotlib.pyplot as plt\n",
    "import seaborn as sns\n",
    "sns.set_style(\"whitegrid\")\n",
    "%matplotlib inline"
   ]
  },
  {
   "cell_type": "code",
   "execution_count": 31,
   "metadata": {
    "scrolled": false
   },
   "outputs": [
    {
     "name": "stdout",
     "output_type": "stream",
     "text": [
      "3.0000 0.6000\n",
      "2.4000 0.4800\n",
      "1.9200 0.3840\n",
      "1.5360 0.3072\n",
      "1.2288 0.2458\n",
      "0.9830 0.1966\n",
      "0.7864 0.1573\n",
      "0.6291 0.1258\n",
      "0.5033 0.1007\n",
      "0.4027 0.0805\n"
     ]
    }
   ],
   "source": [
    "# modified\n",
    "theta = 3\n",
    "alpha = 0.1\n",
    "dat = []\n",
    "\n",
    "for oo in range(0,10):\n",
    "    res = alpha * 2 * theta # update rule\n",
    "    print(\"{0:.4f} {1:.4f}\".format(theta, res))\n",
    "    theta = theta - res\n",
    "    J=theta**2\n",
    "    dat.append([theta, J])"
   ]
  },
  {
   "cell_type": "code",
   "execution_count": 28,
   "metadata": {},
   "outputs": [
    {
     "name": "stdout",
     "output_type": "stream",
     "text": [
      "2.4000 0.6000\n",
      "1.9200 0.4800\n",
      "1.5360 0.3840\n",
      "1.2288 0.3072\n",
      "0.9830 0.2458\n",
      "0.7864 0.1966\n",
      "0.6291 0.1573\n",
      "0.5033 0.1258\n",
      "0.4027 0.1007\n",
      "0.3221 0.0805\n"
     ]
    }
   ],
   "source": [
    "theta = 3\n",
    "alpha = 0.1\n",
    "dat = []\n",
    "for oo in range(0,10):\n",
    "    res = alpha * 2 * theta # update rule\n",
    "    theta = theta - res\n",
    "    \n",
    "    dat.append([theta, theta ** 2])\n",
    "    print(\"{0:.4f} {1:.4f}\".format(theta, res))\n",
    "    "
   ]
  },
  {
   "cell_type": "code",
   "execution_count": 25,
   "metadata": {},
   "outputs": [
    {
     "data": {
      "text/html": [
       "<div>\n",
       "<style scoped>\n",
       "    .dataframe tbody tr th:only-of-type {\n",
       "        vertical-align: middle;\n",
       "    }\n",
       "\n",
       "    .dataframe tbody tr th {\n",
       "        vertical-align: top;\n",
       "    }\n",
       "\n",
       "    .dataframe thead th {\n",
       "        text-align: right;\n",
       "    }\n",
       "</style>\n",
       "<table border=\"1\" class=\"dataframe\">\n",
       "  <thead>\n",
       "    <tr style=\"text-align: right;\">\n",
       "      <th></th>\n",
       "      <th>0</th>\n",
       "      <th>1</th>\n",
       "    </tr>\n",
       "  </thead>\n",
       "  <tbody>\n",
       "    <tr>\n",
       "      <th>0</th>\n",
       "      <td>2.400000</td>\n",
       "      <td>5.760000</td>\n",
       "    </tr>\n",
       "    <tr>\n",
       "      <th>1</th>\n",
       "      <td>1.920000</td>\n",
       "      <td>3.686400</td>\n",
       "    </tr>\n",
       "    <tr>\n",
       "      <th>2</th>\n",
       "      <td>1.536000</td>\n",
       "      <td>2.359296</td>\n",
       "    </tr>\n",
       "    <tr>\n",
       "      <th>3</th>\n",
       "      <td>1.228800</td>\n",
       "      <td>1.509949</td>\n",
       "    </tr>\n",
       "    <tr>\n",
       "      <th>4</th>\n",
       "      <td>0.983040</td>\n",
       "      <td>0.966368</td>\n",
       "    </tr>\n",
       "    <tr>\n",
       "      <th>5</th>\n",
       "      <td>0.786432</td>\n",
       "      <td>0.618475</td>\n",
       "    </tr>\n",
       "    <tr>\n",
       "      <th>6</th>\n",
       "      <td>0.629146</td>\n",
       "      <td>0.395824</td>\n",
       "    </tr>\n",
       "    <tr>\n",
       "      <th>7</th>\n",
       "      <td>0.503316</td>\n",
       "      <td>0.253327</td>\n",
       "    </tr>\n",
       "    <tr>\n",
       "      <th>8</th>\n",
       "      <td>0.402653</td>\n",
       "      <td>0.162130</td>\n",
       "    </tr>\n",
       "    <tr>\n",
       "      <th>9</th>\n",
       "      <td>0.322123</td>\n",
       "      <td>0.103763</td>\n",
       "    </tr>\n",
       "  </tbody>\n",
       "</table>\n",
       "</div>"
      ],
      "text/plain": [
       "          0         1\n",
       "0  2.400000  5.760000\n",
       "1  1.920000  3.686400\n",
       "2  1.536000  2.359296\n",
       "3  1.228800  1.509949\n",
       "4  0.983040  0.966368\n",
       "5  0.786432  0.618475\n",
       "6  0.629146  0.395824\n",
       "7  0.503316  0.253327\n",
       "8  0.402653  0.162130\n",
       "9  0.322123  0.103763"
      ]
     },
     "execution_count": 25,
     "metadata": {},
     "output_type": "execute_result"
    }
   ],
   "source": [
    "tmp = pd.DataFrame(dat)\n",
    "tmp"
   ]
  },
  {
   "cell_type": "code",
   "execution_count": 30,
   "metadata": {},
   "outputs": [
    {
     "data": {
      "image/png": "[encoded data removed]",
      "text/plain": [
       "<Figure size 720x576 with 1 Axes>"
      ]
     },
     "metadata": {
      "needs_background": "light"
     },
     "output_type": "display_data"
    }
   ],
   "source": [
    "plt.figure(figsize=(10,8))\n",
    "plt.plot(np.linspace(-2, 4, 100), np.linspace(-2, 4, 100) ** 2);\n",
    "plt.scatter(tmp.iloc[:,0], tmp.iloc[:,1], marker='X');\n",
    "plt.xlabel('theta');\n",
    "plt.ylabel('J(theta)');"
   ]
  },
  {
   "cell_type": "markdown",
   "metadata": {},
   "source": [
    "***"
   ]
  },
  {
   "cell_type": "markdown",
   "metadata": {},
   "source": [
    "# Second Example"
   ]
  },
  {
   "cell_type": "markdown",
   "metadata": {},
   "source": [
    "$$J(\\theta)=\\theta^4 + \\theta^2$$\n",
    "\n",
    "$$\\frac{d}{d\\theta}J(\\theta)=4\\theta^3 + 2\\theta$$\n",
    "\n",
    "$$\\theta:=\\theta-\\alpha \\times (4\\theta^3 + 2\\theta)$$"
   ]
  },
  {
   "cell_type": "code",
   "execution_count": 5,
   "metadata": {},
   "outputs": [
    {
     "name": "stdout",
     "output_type": "stream",
     "text": [
      "3.0000 1.1400\n",
      "1.8600 0.2946\n",
      "1.5654 0.1847\n",
      "1.3807 0.1329\n",
      "1.2478 0.1027\n",
      "1.1451 0.0830\n",
      "1.0621 0.0692\n",
      "0.9930 0.0590\n",
      "0.9339 0.0513\n",
      "0.8827 0.0452\n"
     ]
    }
   ],
   "source": [
    "theta = 3\n",
    "alpha = 0.01\n",
    "dat = []\n",
    "for oo in range(0,10):\n",
    "    res = alpha * (4 * theta ** 3 + 2 * theta) # update function\n",
    "    print(\"{0:.4f} {1:.4f}\".format(theta, res))\n",
    "    dat.append([theta, theta ** 4 + theta ** 2])\n",
    "    theta = theta - res"
   ]
  },
  {
   "cell_type": "code",
   "execution_count": 6,
   "metadata": {},
   "outputs": [
    {
     "data": {
      "text/html": [
       "<div>\n",
       "<style>\n",
       "    .dataframe thead tr:only-child th {\n",
       "        text-align: right;\n",
       "    }\n",
       "\n",
       "    .dataframe thead th {\n",
       "        text-align: left;\n",
       "    }\n",
       "\n",
       "    .dataframe tbody tr th {\n",
       "        vertical-align: top;\n",
       "    }\n",
       "</style>\n",
       "<table border=\"1\" class=\"dataframe\">\n",
       "  <thead>\n",
       "    <tr style=\"text-align: right;\">\n",
       "      <th></th>\n",
       "      <th>0</th>\n",
       "      <th>1</th>\n",
       "    </tr>\n",
       "  </thead>\n",
       "  <tbody>\n",
       "    <tr>\n",
       "      <th>0</th>\n",
       "      <td>3.000000</td>\n",
       "      <td>90.000000</td>\n",
       "    </tr>\n",
       "    <tr>\n",
       "      <th>1</th>\n",
       "      <td>1.860000</td>\n",
       "      <td>15.428432</td>\n",
       "    </tr>\n",
       "    <tr>\n",
       "      <th>2</th>\n",
       "      <td>1.565406</td>\n",
       "      <td>8.455422</td>\n",
       "    </tr>\n",
       "    <tr>\n",
       "      <th>3</th>\n",
       "      <td>1.380657</td>\n",
       "      <td>5.539863</td>\n",
       "    </tr>\n",
       "    <tr>\n",
       "      <th>4</th>\n",
       "      <td>1.247771</td>\n",
       "      <td>3.980968</td>\n",
       "    </tr>\n",
       "    <tr>\n",
       "      <th>5</th>\n",
       "      <td>1.145108</td>\n",
       "      <td>3.030703</td>\n",
       "    </tr>\n",
       "    <tr>\n",
       "      <th>6</th>\n",
       "      <td>1.062144</td>\n",
       "      <td>2.400869</td>\n",
       "    </tr>\n",
       "    <tr>\n",
       "      <th>7</th>\n",
       "      <td>0.992970</td>\n",
       "      <td>1.958167</td>\n",
       "    </tr>\n",
       "    <tr>\n",
       "      <th>8</th>\n",
       "      <td>0.933949</td>\n",
       "      <td>1.633098</td>\n",
       "    </tr>\n",
       "    <tr>\n",
       "      <th>9</th>\n",
       "      <td>0.882684</td>\n",
       "      <td>1.386175</td>\n",
       "    </tr>\n",
       "  </tbody>\n",
       "</table>\n",
       "</div>"
      ],
      "text/plain": [
       "          0          1\n",
       "0  3.000000  90.000000\n",
       "1  1.860000  15.428432\n",
       "2  1.565406   8.455422\n",
       "3  1.380657   5.539863\n",
       "4  1.247771   3.980968\n",
       "5  1.145108   3.030703\n",
       "6  1.062144   2.400869\n",
       "7  0.992970   1.958167\n",
       "8  0.933949   1.633098\n",
       "9  0.882684   1.386175"
      ]
     },
     "execution_count": 6,
     "metadata": {},
     "output_type": "execute_result"
    }
   ],
   "source": [
    "tmp = pd.DataFrame(dat)\n",
    "tmp"
   ]
  },
  {
   "cell_type": "code",
   "execution_count": 7,
   "metadata": {},
   "outputs": [
    {
     "data": {
      "image/png": "[encoded data removed]",
      "text/plain": [
       "<matplotlib.figure.Figure at 0x1ff628fc2b0>"
      ]
     },
     "metadata": {},
     "output_type": "display_data"
    }
   ],
   "source": [
    "plt.figure(figsize=(10,8))\n",
    "x_grid = np.linspace(-2, 4, 100)\n",
    "plt.plot(x_grid, x_grid ** 4 + x_grid ** 2);\n",
    "plt.scatter(tmp.iloc[:,0], tmp.iloc[:,1], marker='X');\n",
    "plt.xlabel('theta');\n",
    "plt.ylabel('J(theta)');"
   ]
  },
  {
   "cell_type": "markdown",
   "metadata": {},
   "source": [
    "***"
   ]
  },
  {
   "cell_type": "markdown",
   "metadata": {},
   "source": [
    "## Cost Function\n",
    "\n",
    "$$J(\\theta)=\\frac{1}{m}\\sum_{i=1}^m(h_{\\theta}(x^{(i)})-y^{(i)})^2$$\n",
    "\n",
    "## Derivative of Cost Function\n",
    "\n",
    "$$\\frac{d}{d\\theta}J(\\theta)=\\frac{2}{m}\\sum_{i=1}^m(h_{\\theta}(x^{(i)})-y^{(i)}) \\times x^{(i)} $$\n",
    "\n",
    "## Update Rule\n",
    "\n",
    "$$\\theta_i:=\\theta_i-\\alpha\\frac{d}{d\\theta}J(\\theta)$$\n",
    "\n",
    "Substitute derivative of cost function to update rule\n",
    "\n",
    "$$\\theta_i:=\\theta_i-\\alpha \\times \\frac{2}{m}\\sum_{i=1}^m(h_{\\theta}(x^{(i)})-y^{(i)}) \\times x^{(i)} $$\n",
    "\n",
    "Simplifying everything, our gradient for the coefficient of x is just the average of our predicted values multiplied by their respective x value."
   ]
  },
  {
   "cell_type": "markdown",
   "metadata": {},
   "source": [
    "***\n",
    "\n",
    "Quite often you see it in the following form:"
   ]
  },
  {
   "cell_type": "markdown",
   "metadata": {},
   "source": [
    "## Cost Function\n",
    "\n",
    "$$J(\\theta)=\\frac{1}{2m}\\sum_{i=1}^m(h_{\\theta}(x^{(i)})-y^{(i)})^2$$\n",
    "\n",
    "## Derivative of Cost Function\n",
    "\n",
    "$$\\frac{d}{d\\theta}J(\\theta)=\\frac{1}{m}\\sum_{i=1}^m(h_{\\theta}(x^{(i)})-y^{(i)}) \\times x^{(i)} $$\n",
    "\n",
    "## Update Rule\n",
    "\n",
    "$$\\theta_i:=\\theta_i-\\alpha\\frac{d}{d\\theta}J(\\theta)$$\n",
    "\n",
    "Substitute derivative of cost function to update rule\n",
    "\n",
    "$$\\theta_i:=\\theta_i-\\alpha \\times \\frac{1}{m}\\sum_{i=1}^m(h_{\\theta}(x^{(i)})-y^{(i)}) \\times x^{(i)} $$\n",
    "\n",
    "Simplifying everything, our gradient for the coefficient of x is just the average of our predicted values multiplied by their respective x value."
   ]
  },
  {
   "cell_type": "markdown",
   "metadata": {},
   "source": [
    "***"
   ]
  },
  {
   "cell_type": "markdown",
   "metadata": {},
   "source": [
    "# Applying Gradient Descent to Boston Housing Data"
   ]
  },
  {
   "cell_type": "code",
   "execution_count": 32,
   "metadata": {},
   "outputs": [
    {
     "data": {
      "text/html": [
       "<div>\n",
       "<style scoped>\n",
       "    .dataframe tbody tr th:only-of-type {\n",
       "        vertical-align: middle;\n",
       "    }\n",
       "\n",
       "    .dataframe tbody tr th {\n",
       "        vertical-align: top;\n",
       "    }\n",
       "\n",
       "    .dataframe thead th {\n",
       "        text-align: right;\n",
       "    }\n",
       "</style>\n",
       "<table border=\"1\" class=\"dataframe\">\n",
       "  <thead>\n",
       "    <tr style=\"text-align: right;\">\n",
       "      <th></th>\n",
       "      <th>CRIM</th>\n",
       "      <th>ZN</th>\n",
       "      <th>INDUS</th>\n",
       "      <th>CHAS</th>\n",
       "      <th>NOX</th>\n",
       "      <th>RM</th>\n",
       "      <th>AGE</th>\n",
       "      <th>DIS</th>\n",
       "      <th>RAD</th>\n",
       "      <th>TAX</th>\n",
       "      <th>PTRATIO</th>\n",
       "      <th>B</th>\n",
       "      <th>LSTAT</th>\n",
       "    </tr>\n",
       "  </thead>\n",
       "  <tbody>\n",
       "    <tr>\n",
       "      <th>0</th>\n",
       "      <td>0.00632</td>\n",
       "      <td>18.0</td>\n",
       "      <td>2.31</td>\n",
       "      <td>0.0</td>\n",
       "      <td>0.538</td>\n",
       "      <td>6.575</td>\n",
       "      <td>65.2</td>\n",
       "      <td>4.0900</td>\n",
       "      <td>1.0</td>\n",
       "      <td>296.0</td>\n",
       "      <td>15.3</td>\n",
       "      <td>396.90</td>\n",
       "      <td>4.98</td>\n",
       "    </tr>\n",
       "    <tr>\n",
       "      <th>1</th>\n",
       "      <td>0.02731</td>\n",
       "      <td>0.0</td>\n",
       "      <td>7.07</td>\n",
       "      <td>0.0</td>\n",
       "      <td>0.469</td>\n",
       "      <td>6.421</td>\n",
       "      <td>78.9</td>\n",
       "      <td>4.9671</td>\n",
       "      <td>2.0</td>\n",
       "      <td>242.0</td>\n",
       "      <td>17.8</td>\n",
       "      <td>396.90</td>\n",
       "      <td>9.14</td>\n",
       "    </tr>\n",
       "    <tr>\n",
       "      <th>2</th>\n",
       "      <td>0.02729</td>\n",
       "      <td>0.0</td>\n",
       "      <td>7.07</td>\n",
       "      <td>0.0</td>\n",
       "      <td>0.469</td>\n",
       "      <td>7.185</td>\n",
       "      <td>61.1</td>\n",
       "      <td>4.9671</td>\n",
       "      <td>2.0</td>\n",
       "      <td>242.0</td>\n",
       "      <td>17.8</td>\n",
       "      <td>392.83</td>\n",
       "      <td>4.03</td>\n",
       "    </tr>\n",
       "    <tr>\n",
       "      <th>3</th>\n",
       "      <td>0.03237</td>\n",
       "      <td>0.0</td>\n",
       "      <td>2.18</td>\n",
       "      <td>0.0</td>\n",
       "      <td>0.458</td>\n",
       "      <td>6.998</td>\n",
       "      <td>45.8</td>\n",
       "      <td>6.0622</td>\n",
       "      <td>3.0</td>\n",
       "      <td>222.0</td>\n",
       "      <td>18.7</td>\n",
       "      <td>394.63</td>\n",
       "      <td>2.94</td>\n",
       "    </tr>\n",
       "    <tr>\n",
       "      <th>4</th>\n",
       "      <td>0.06905</td>\n",
       "      <td>0.0</td>\n",
       "      <td>2.18</td>\n",
       "      <td>0.0</td>\n",
       "      <td>0.458</td>\n",
       "      <td>7.147</td>\n",
       "      <td>54.2</td>\n",
       "      <td>6.0622</td>\n",
       "      <td>3.0</td>\n",
       "      <td>222.0</td>\n",
       "      <td>18.7</td>\n",
       "      <td>396.90</td>\n",
       "      <td>5.33</td>\n",
       "    </tr>\n",
       "  </tbody>\n",
       "</table>\n",
       "</div>"
      ],
      "text/plain": [
       "      CRIM    ZN  INDUS  CHAS    NOX     RM   AGE     DIS  RAD    TAX  \\\n",
       "0  0.00632  18.0   2.31   0.0  0.538  6.575  65.2  4.0900  1.0  296.0   \n",
       "1  0.02731   0.0   7.07   0.0  0.469  6.421  78.9  4.9671  2.0  242.0   \n",
       "2  0.02729   0.0   7.07   0.0  0.469  7.185  61.1  4.9671  2.0  242.0   \n",
       "3  0.03237   0.0   2.18   0.0  0.458  6.998  45.8  6.0622  3.0  222.0   \n",
       "4  0.06905   0.0   2.18   0.0  0.458  7.147  54.2  6.0622  3.0  222.0   \n",
       "\n",
       "   PTRATIO       B  LSTAT  \n",
       "0     15.3  396.90   4.98  \n",
       "1     17.8  396.90   9.14  \n",
       "2     17.8  392.83   4.03  \n",
       "3     18.7  394.63   2.94  \n",
       "4     18.7  396.90   5.33  "
      ]
     },
     "execution_count": 32,
     "metadata": {},
     "output_type": "execute_result"
    }
   ],
   "source": [
    "from sklearn.datasets import load_boston\n",
    "boston_data = load_boston()\n",
    "df = pd.DataFrame(boston_data.data, columns=boston_data.feature_names)\n",
    "df.head()"
   ]
  },
  {
   "cell_type": "code",
   "execution_count": 112,
   "metadata": {},
   "outputs": [],
   "source": [
    "X = df[['LSTAT']].values\n",
    "y = boston_data.target"
   ]
  },
  {
   "cell_type": "code",
   "execution_count": 113,
   "metadata": {
    "scrolled": true
   },
   "outputs": [],
   "source": [
    "from sklearn.preprocessing import StandardScaler\n",
    "sc_x = StandardScaler() # Standardise Variable to Identify Key Feature(s)\n",
    "sc_y = StandardScaler()\n",
    "X_std = sc_x.fit_transform(X) # Standardise Variable to Identify Key Feature(s)\n",
    "y_std = sc_y.fit_transform(y.reshape(-1,1)).flatten()"
   ]
  },
  {
   "cell_type": "code",
   "execution_count": 124,
   "metadata": {},
   "outputs": [],
   "source": [
    "alpha = 0.0001\n",
    "w_ = np.zeros(1 + X_std.shape[1])\n",
    "cost_ = []\n",
    "n_ = 100\n",
    "\n",
    "for i in range(n_):\n",
    "    y_pred = np.dot(X_std, w_[1:]) + w_[0]\n",
    "    errors = (y_std - y_pred)\n",
    "    \n",
    "    w_[1:] += alpha * X_std.T.dot(errors)\n",
    "    w_[0] += alpha * errors.sum()\n",
    "    \n",
    "    cost = (errors**2).sum() / 2.0\n",
    "    cost_.append(cost)"
   ]
  },
  {
   "cell_type": "code",
   "execution_count": 125,
   "metadata": {},
   "outputs": [
    {
     "data": {
      "image/png": "[encoded data removed]",
      "text/plain": [
       "<Figure size 720x576 with 1 Axes>"
      ]
     },
     "metadata": {
      "needs_background": "light"
     },
     "output_type": "display_data"
    }
   ],
   "source": [
    "plt.figure(figsize=(10,8))\n",
    "plt.plot(range(1, n_ + 1), cost_);\n",
    "plt.ylabel('SSE');\n",
    "plt.xlabel('Epoch');"
   ]
  },
  {
   "cell_type": "code",
   "execution_count": 129,
   "metadata": {},
   "outputs": [],
   "source": [
    "# make it simple...leave w_[0]\n",
    "alpha = 0.0001\n",
    "w_ = np.zeros(1 + X_std.shape[1]) # actually the Theta here\n",
    "cost_ = []\n",
    "n_ = 100 # just the range\n",
    "\n",
    "for i in range(n_):\n",
    "    y_pred = np.dot(X_std, w_[1:]) # w_[1:] is an array of [0.]\n",
    "#for 100 times...and w_[0] are a series of 0.0,0.0,0.0 for 100 times\n",
    "    errors = (y_std - y_pred)\n",
    "    # X_std.T gives the row vector\n",
    "    w_[1:] += alpha * X_std.T.dot(errors)\n",
    "   # w_[0] += alpha * errors.sum()\n",
    "    \n",
    "    cost = (errors**2).sum() / 2.0\n",
    "    cost_.append(cost)"
   ]
  },
  {
   "cell_type": "code",
   "execution_count": 130,
   "metadata": {},
   "outputs": [
    {
     "data": {
      "image/png": "[encoded data removed]",
      "text/plain": [
       "<Figure size 720x576 with 1 Axes>"
      ]
     },
     "metadata": {
      "needs_background": "light"
     },
     "output_type": "display_data"
    }
   ],
   "source": [
    "plt.figure(figsize=(10,8))\n",
    "plt.plot(range(1, n_ + 1), cost_);\n",
    "plt.ylabel('SSE');\n",
    "plt.xlabel('Epoch');"
   ]
  },
  {
   "cell_type": "code",
   "execution_count": 47,
   "metadata": {},
   "outputs": [
    {
     "data": {
      "text/plain": [
       "(506, 1)"
      ]
     },
     "execution_count": 47,
     "metadata": {},
     "output_type": "execute_result"
    }
   ],
   "source": [
    "X_std.shape"
   ]
  },
  {
   "cell_type": "code",
   "execution_count": 48,
   "metadata": {},
   "outputs": [
    {
     "data": {
      "text/plain": [
       "2"
      ]
     },
     "execution_count": 48,
     "metadata": {},
     "output_type": "execute_result"
    }
   ],
   "source": [
    "X_std.shape[1]\n",
    "1+X_std.shape[1]"
   ]
  },
  {
   "cell_type": "code",
   "execution_count": 49,
   "metadata": {},
   "outputs": [
    {
     "data": {
      "text/plain": [
       "array([0., 0.])"
      ]
     },
     "execution_count": 49,
     "metadata": {},
     "output_type": "execute_result"
    }
   ],
   "source": [
    "np.zeros(2)"
   ]
  },
  {
   "cell_type": "code",
   "execution_count": 52,
   "metadata": {},
   "outputs": [
    {
     "data": {
      "text/plain": [
       "array([0., 0.])"
      ]
     },
     "execution_count": 52,
     "metadata": {},
     "output_type": "execute_result"
    }
   ],
   "source": [
    "np.zeros(1 + X_std.shape[1])"
   ]
  },
  {
   "cell_type": "code",
   "execution_count": 51,
   "metadata": {},
   "outputs": [
    {
     "data": {
      "text/plain": [
       "array([0.])"
      ]
     },
     "execution_count": 51,
     "metadata": {},
     "output_type": "execute_result"
    }
   ],
   "source": [
    "w=np.zeros(1 + X_std.shape[1])\n",
    "w[1:]"
   ]
  },
  {
   "cell_type": "code",
   "execution_count": 45,
   "metadata": {},
   "outputs": [
    {
     "data": {
      "text/plain": [
       "0.0"
      ]
     },
     "execution_count": 45,
     "metadata": {},
     "output_type": "execute_result"
    }
   ],
   "source": [
    "w[0]"
   ]
  },
  {
   "cell_type": "code",
   "execution_count": 74,
   "metadata": {},
   "outputs": [
    {
     "data": {
      "text/plain": [
       "array([0., 0.])"
      ]
     },
     "execution_count": 74,
     "metadata": {},
     "output_type": "execute_result"
    }
   ],
   "source": [
    "w"
   ]
  },
  {
   "cell_type": "code",
   "execution_count": 76,
   "metadata": {},
   "outputs": [
    {
     "name": "stdout",
     "output_type": "stream",
     "text": [
      "we have w_=[0. 0.]\n",
      "we have w_[1:]=[0.]\n",
      "we have w_[0]=0.0\n"
     ]
    }
   ],
   "source": [
    "w_=np.zeros(1 + X_std.shape[1])\n",
    "print(\"we have w_={}\".format(w_))\n",
    "print(\"we have w_[1:]={}\".format(w_[1:]))\n",
    "print(\"we have w_[0]={}\".format(w_[0]))\n"
   ]
  },
  {
   "cell_type": "code",
   "execution_count": 57,
   "metadata": {
    "collapsed": true
   },
   "outputs": [
    {
     "data": {
      "text/plain": [
       "array([ 7.88992450e-01,  3.61235179e-01,  8.86677403e-01,  9.98758034e-01,\n",
       "        7.53003256e-01,  7.65342408e-01,  2.29367604e-02, -6.68055754e-01,\n",
       "       -1.77652291e+00, -4.57261907e-01, -8.01729901e-01, -6.34373039e-02,\n",
       "       -3.14333395e-01,  4.51722294e-01,  2.46069760e-01,  4.30128778e-01,\n",
       "        6.24470422e-01, -2.07394078e-01,  9.90281980e-02,  1.41186967e-01,\n",
       "       -8.60340873e-01, -1.21020013e-01, -6.23840459e-01, -7.43118929e-01,\n",
       "       -3.75000893e-01, -3.96594409e-01, -2.21789755e-01, -4.75770635e-01,\n",
       "       -1.51089584e-02,  6.92085805e-02, -1.02280638e+00, -3.97872625e-02,\n",
       "       -1.54824860e+00, -5.85794740e-01, -7.90419012e-01,  3.05708995e-01,\n",
       "        1.27819553e-01,  3.99280898e-01,  2.59437175e-01,  8.56857786e-01,\n",
       "        1.09747125e+00,  8.03388127e-01,  7.03646648e-01,  5.36039833e-01,\n",
       "        3.19076409e-01,  2.51211073e-01, -1.53924419e-01, -6.32066560e-01,\n",
       "       -1.86701003e+00, -3.64718266e-01, -8.19460320e-02,  3.31415561e-01,\n",
       "        7.58144570e-01,  4.34241828e-01, -2.20761492e-01,  8.06472915e-01,\n",
       "        7.07759699e-01,  8.94903505e-01,  5.95679068e-01,  3.53009077e-01,\n",
       "       -5.10981519e-02, -1.83744036e-01,  6.09046482e-01,  3.24217723e-01,\n",
       "        4.73315810e-01,  8.20868592e-01,  2.48126285e-01,  4.68174497e-01,\n",
       "       -4.49285758e-02,  3.97224372e-01,  6.10074745e-01,  2.85143741e-01,\n",
       "        7.33466265e-01,  5.25757206e-01,  6.03905169e-01,  3.81800432e-01,\n",
       "        7.02368432e-02,  2.45041497e-01,  3.21911244e-02,  3.65348230e-01,\n",
       "        7.57116307e-01,  5.58661612e-01,  6.10074745e-01,  5.28841994e-01,\n",
       "        3.11878571e-01,  6.29611736e-01, -2.12785344e-02,  4.33213566e-01,\n",
       "        7.35522791e-01,  7.14957537e-01,  3.95167847e-01,  4.57891870e-01,\n",
       "        4.62004921e-01,  6.62516141e-01,  2.12137092e-01,  6.17272584e-01,\n",
       "        1.35017391e-01,  8.68168675e-01,  9.33977486e-01,  6.64572667e-01,\n",
       "        3.32443824e-01,  5.12389791e-01,  2.08024041e-01, -8.09177693e-02,\n",
       "        3.32193871e-02, -3.92481358e-01, -6.17670883e-01, -1.47754843e-01,\n",
       "        3.93889631e-02, -2.97881193e-01, -3.56742118e-02,  2.56352386e-01,\n",
       "       -3.65746529e-01, -4.56233644e-01,  2.26532769e-01, -3.19474709e-01,\n",
       "        6.30390045e-02,  2.41956709e-01, -2.79372465e-01, -9.83982347e-02,\n",
       "       -1.76546198e-01, -1.66263571e-01, -5.42607708e-01, -1.31174819e+00,\n",
       "       -5.06618515e-01, -2.21789755e-01, -1.50197678e+00, -4.66516271e-01,\n",
       "       -2.81428990e-01, -5.84766478e-01,  5.45629500e-03,  4.04172258e-02,\n",
       "        1.57639170e-01, -2.44411534e-01, -4.78855423e-01, -4.42866229e-01,\n",
       "       -4.36696653e-01, -1.99167976e-01, -8.91188753e-01, -5.97105630e-01,\n",
       "       -1.18321535e+00, -2.23718459e+00, -1.45673322e+00, -1.41560272e+00,\n",
       "       -1.71071410e+00, -1.55750296e+00, -4.10990086e-01, -1.73539241e+00,\n",
       "       -1.61097262e+00, -9.04556168e-01, -1.48783106e-01, -6.44655666e-02,\n",
       "        5.48129032e-02, -3.22559497e-01, -2.53665898e-01, -2.43383271e-01,\n",
       "       -3.58548690e-01,  8.29094694e-01,  6.39894362e-01,  5.41181146e-01,\n",
       "        7.35522791e-01,  1.12317782e+00,  1.10364083e+00,  9.59684053e-01,\n",
       "        1.04169511e-01,  2.92341580e-01,  9.20610071e-01,  5.27563778e-02,\n",
       "        1.59695696e-01,  1.37073917e-01, -1.82715774e-01,  6.40672672e-02,\n",
       "       -2.09450603e-01,  3.71517806e-01,  3.09822045e-01,  7.53003256e-01,\n",
       "        2.61493700e-01,  6.54290040e-01,  5.89509492e-01,  7.82822874e-01,\n",
       "        5.23700681e-01,  3.29359036e-01,  8.05444652e-01,  7.17014063e-01,\n",
       "       -1.36443953e-01, -5.10981519e-02,  8.43490371e-01,  6.14187796e-01,\n",
       "        8.32179482e-01,  7.46833680e-01,  7.76653298e-01,  8.18812067e-01,\n",
       "        1.00595587e+00,  7.83851136e-01,  8.50688210e-01,  9.95673246e-01,\n",
       "        8.81536090e-01,  4.15733100e-01,  6.20357372e-01,  8.32179482e-01,\n",
       "        8.43490371e-01,  5.37068095e-01,  9.81277569e-01,  9.09299182e-01,\n",
       "        1.00492761e+00,  1.83345737e-01,  1.73063110e-01, -5.55975123e-01,\n",
       "       -2.06365815e-01, -1.07319125e+00, -4.74742372e-01, -1.16470662e+00,\n",
       "       -3.47237801e-01,  3.36556875e-01, -1.73744893e+00,  3.27302511e-01,\n",
       "       -8.81156080e-02,  3.04680732e-01, -5.41579445e-01,  2.21391456e-01,\n",
       "        3.02624207e-01, -9.05584431e-01,  2.80002428e-01,  5.19587630e-01,\n",
       "        8.75366514e-01,  8.24981643e-01,  9.79221044e-01,  6.47092201e-01,\n",
       "        8.97988293e-01,  9.14440495e-01,  1.03141249e-01,  7.61229358e-01,\n",
       "        1.04708638e+00,  8.94903505e-01,  4.73315810e-01,  1.82317474e-01,\n",
       "        3.20104672e-01,  8.14699016e-01,  6.47092201e-01,  5.43237671e-01,\n",
       "        1.30904341e-01,  2.60215484e-02,  1.47356543e-01,  7.67398934e-01,\n",
       "        1.57389217e-02, -5.97105630e-01,  3.59178654e-01,  2.57380649e-01,\n",
       "        3.22161197e-01,  6.26526948e-01,  6.94392284e-01,  9.31920961e-01,\n",
       "        9.38090537e-01,  9.37062274e-01,  6.25498685e-01,  3.49924289e-01,\n",
       "        9.81277569e-01,  7.74596772e-01,  5.00050639e-01,  5.91566017e-01,\n",
       "        3.14963359e-01,  5.54548561e-01,  6.93364021e-01,  1.44271755e-01,\n",
       "        4.68174497e-01,  2.26532769e-01, -2.19733230e-01,  5.36039833e-01,\n",
       "        9.76136256e-01, -1.02511285e-01, -3.56742118e-02,  6.23442160e-01,\n",
       "        5.06220215e-01,  6.24470422e-01,  9.38090537e-01,  9.94644984e-01,\n",
       "        6.78968344e-01,  8.73309989e-01,  5.61746400e-01,  8.02359864e-01,\n",
       "        9.14440495e-01,  8.29094694e-01,  9.91560196e-01,  9.76136256e-01,\n",
       "        4.93881063e-01,  4.54807082e-01, -2.84763731e-02,  5.66887713e-01,\n",
       "        5.19587630e-01,  3.23189460e-01,  9.58655790e-01,  9.35005749e-01,\n",
       "        8.17783804e-01,  4.18817888e-01,  2.31674082e-01,  6.56346565e-01,\n",
       "        5.41181146e-01, -3.27700810e-01,  7.90020712e-01,  8.13670754e-01,\n",
       "        6.76911819e-01,  3.24217723e-01,  4.09563524e-01,  8.01331602e-01,\n",
       "        5.88481229e-01,  3.82828695e-01,  6.35781312e-01,  5.26785469e-01,\n",
       "        8.34236007e-01,  2.75889377e-01,  1.34324432e-03,  6.86166183e-01,\n",
       "        9.59434100e-02,  4.88739750e-01,  3.46839501e-01,  1.18565189e-01,\n",
       "       -5.83738215e-01, -3.37983437e-01,  2.35787133e-01, -7.91111971e-03,\n",
       "        5.60718137e-01,  5.94650805e-01,  5.09305003e-01,  9.38868846e-02,\n",
       "        6.71770505e-01,  7.78709823e-01,  6.68685717e-01, -1.40806957e-02,\n",
       "        2.75889377e-01,  5.46322459e-01,  3.66376492e-01,  2.29367604e-02,\n",
       "        4.95937589e-01,  7.17014063e-01,  6.06989957e-01,  4.77428861e-01,\n",
       "        2.93369843e-01,  2.15221880e-01,  4.26015727e-01,  2.99539419e-01,\n",
       "        3.45811239e-01,  7.36551053e-01,  4.11620050e-01,  5.62774662e-01,\n",
       "        8.27038168e-01,  2.18306668e-01, -1.74154369e-03,  6.47092201e-01,\n",
       "        6.85137920e-01,  6.95420547e-01,  6.86166183e-01,  7.36551053e-01,\n",
       "        5.00050639e-01,  8.38349058e-01,  4.73315810e-01,  7.28324952e-01,\n",
       "       -5.08675040e-01, -6.34373039e-02,  1.20621714e-01, -1.74154369e-03,\n",
       "        5.00050639e-01, -1.58037470e-01,  2.53267598e-01, -2.04309290e-01,\n",
       "        7.57116307e-01,  5.68944238e-01, -1.38500479e-01, -6.96068799e-02,\n",
       "        9.65853629e-01,  9.17525283e-01,  9.96701509e-01,  3.21132935e-01,\n",
       "        3.87970008e-01, -2.27420204e+00, -2.60324610e+00, -8.09177693e-02,\n",
       "       -1.08861519e+00, -8.82962652e-01, -1.13488701e+00, -9.38488836e-01,\n",
       "       -4.68572796e-01, -8.66510449e-01, -1.12563264e+00, -1.22434586e+00,\n",
       "       -1.84850130e+00, -1.86701003e+00, -1.60685957e+00, -1.98834502e+00,\n",
       "       -1.84747304e+00, -8.42860408e-01, -4.58290169e-01, -6.27953510e-01,\n",
       "       -1.33951128e+00, -2.58807211e-01, -3.80142206e-01, -4.59318432e-01,\n",
       "       -6.90677533e-01, -7.47231980e-01, -1.84438825e+00, -1.78063596e+00,\n",
       "       -1.45159191e+00, -7.88362486e-01, -7.87334224e-01, -7.31808039e-01,\n",
       "       -1.51431593e+00, -1.06188036e+00, -1.09889781e+00,  5.37846405e-02,\n",
       "       -1.41354619e+00, -7.32836302e-01,  2.61493700e-01, -8.80906127e-01,\n",
       "       -2.23307154e+00, -7.63684182e-01, -2.50144809e+00, -1.68603580e+00,\n",
       "       -1.35082217e+00, -1.43822449e+00, -8.19210366e-01, -1.03720205e+00,\n",
       "       -2.43383271e-01, -3.13305133e-01, -1.48783106e-01, -1.09375650e+00,\n",
       "       -4.63431483e-01, -1.20686539e+00, -3.12276870e-01, -1.91970138e-01,\n",
       "       -9.11754007e-01, -1.17498925e+00, -5.12788091e-01, -7.23581938e-01,\n",
       "        6.40672672e-02, -3.66774792e-01, -2.58807211e-01, -1.09169997e+00,\n",
       "       -5.54946860e-01, -1.41868750e+00, -2.19708234e+00, -1.05159773e+00,\n",
       "       -9.72421504e-01, -7.06101473e-01, -4.04820510e-01, -6.37207874e-01,\n",
       "       -1.14516963e+00, -1.16470662e+00, -5.28212031e-01, -3.89396570e-01,\n",
       "       -5.63172962e-01, -6.84507957e-01, -4.92222837e-01, -5.22042455e-01,\n",
       "       -4.74742372e-01, -4.20244450e-01, -6.22812196e-01, -5.63172962e-01,\n",
       "       -6.53660077e-01, -4.40809704e-01, -3.67803054e-01, -2.10478866e-01,\n",
       "       -3.87340045e-01, -2.05337552e-01, -1.37472216e-01,  2.42984972e-01,\n",
       "       -5.82959905e-02, -1.51867894e-01, -4.62403220e-01, -8.91188753e-01,\n",
       "       -5.63172962e-01, -2.16648442e-01, -3.73972630e-01, -2.23067971e-02,\n",
       "       -1.75517935e-01,  1.02112986e-01, -5.64201224e-01, -1.17704578e+00,\n",
       "       -6.19727408e-01, -1.26033505e+00, -5.52890335e-01, -4.69851012e-02,\n",
       "        1.96713152e-01,  5.05191953e-01,  5.80255128e-01,  2.29617557e-01,\n",
       "       -7.06351426e-02,  2.13165354e-01, -2.39270220e-01,  1.23706502e-01,\n",
       "       -5.55975123e-01, -1.16367836e+00, -1.75081635e+00, -5.57003386e-01,\n",
       "       -7.16634053e-02,  6.61237925e-02, -9.63417093e-02, -5.08675040e-01,\n",
       "       -8.72680025e-01, -1.48783106e-01, -2.74481104e-02, -2.51609373e-01,\n",
       "       -1.72433147e-01,  3.06737257e-01,  3.67404755e-01,  7.21127113e-01,\n",
       "        6.34753049e-01,  4.90796275e-01])"
      ]
     },
     "execution_count": 57,
     "metadata": {},
     "output_type": "execute_result"
    }
   ],
   "source": [
    "np.dot(X_std, w_[1:]) + w_[0]"
   ]
  },
  {
   "cell_type": "code",
   "execution_count": 59,
   "metadata": {},
   "outputs": [
    {
     "data": {
      "text/plain": [
       "(506, 1)"
      ]
     },
     "execution_count": 59,
     "metadata": {},
     "output_type": "execute_result"
    }
   ],
   "source": [
    "X_std.shape"
   ]
  },
  {
   "cell_type": "code",
   "execution_count": 27,
   "metadata": {},
   "outputs": [
    {
     "data": {
      "text/plain": [
       "array([ -7.57793828e-16,  -7.33562757e-01])"
      ]
     },
     "execution_count": 27,
     "metadata": {},
     "output_type": "execute_result"
    }
   ],
   "source": [
    "w_"
   ]
  },
  {
   "cell_type": "code",
   "execution_count": 55,
   "metadata": {},
   "outputs": [
    {
     "data": {
      "text/plain": [
       "array([[37, 40],\n",
       "       [85, 92]])"
      ]
     },
     "execution_count": 55,
     "metadata": {},
     "output_type": "execute_result"
    }
   ],
   "source": [
    "a = np.array([[1,2],[3,4]]) \n",
    "b = np.array([[11,12],[13,14]]) "
   ]
  },
  {
   "cell_type": "code",
   "execution_count": 99,
   "metadata": {},
   "outputs": [
    {
     "name": "stdout",
     "output_type": "stream",
     "text": [
      "[[1 2]\n",
      " [3 4]]\n",
      "[[11 12]\n",
      " [13 14]]\n",
      "[[11 13]\n",
      " [12 14]]\n"
     ]
    }
   ],
   "source": [
    "print(a)\n",
    "print(b)\n",
    "print(b.T)"
   ]
  },
  {
   "cell_type": "code",
   "execution_count": 64,
   "metadata": {},
   "outputs": [
    {
     "data": {
      "text/plain": [
       "array([[37, 40],\n",
       "       [85, 92]])"
      ]
     },
     "execution_count": 64,
     "metadata": {},
     "output_type": "execute_result"
    }
   ],
   "source": [
    "np.dot(a,b)\n",
    "# [[1*11+2*13, 1*12+2*14],[3*11+4*13, 3*12+4*14]]"
   ]
  },
  {
   "cell_type": "code",
   "execution_count": 96,
   "metadata": {},
   "outputs": [
    {
     "name": "stdout",
     "output_type": "stream",
     "text": [
      "[0.]\n",
      "[0.]\n",
      "[0.]\n",
      "[0.]\n"
     ]
    }
   ],
   "source": [
    "w_ = np.zeros(1 + X_std.shape[1]) # actually the Theta here\n",
    "cost_ = []\n",
    "n_ = 4 # just the range\n",
    "\n",
    "for i in range(n_):\n",
    "    print(w_[1:])"
   ]
  },
  {
   "cell_type": "code",
   "execution_count": 98,
   "metadata": {},
   "outputs": [
    {
     "data": {
      "text/plain": [
       "array([0., 0.])"
      ]
     },
     "execution_count": 98,
     "metadata": {},
     "output_type": "execute_result"
    }
   ],
   "source": [
    "w_.T"
   ]
  },
  {
   "cell_type": "code",
   "execution_count": 90,
   "metadata": {},
   "outputs": [
    {
     "data": {
      "text/plain": [
       "array([[-1.07556230e+00, -4.92439366e-01, -1.20872740e+00,\n",
       "        -1.36151682e+00, -1.02650148e+00, -1.04332233e+00,\n",
       "        -3.12676184e-02,  9.10700206e-01,  2.42177359e+00,\n",
       "         6.23343950e-01,  1.09292612e+00,  8.64783596e-02,\n",
       "         4.28502391e-01, -6.15792295e-01, -3.35444728e-01,\n",
       "        -5.86355801e-01, -8.51284251e-01,  2.82721656e-01,\n",
       "        -1.34996218e-01, -1.92467469e-01,  1.17282518e+00,\n",
       "         1.64975678e-01,  8.50425479e-01,  1.01302707e+00,\n",
       "         5.11204923e-01,  5.40641418e-01,  3.02345986e-01,\n",
       "         6.48575231e-01,  2.05966814e-02, -9.43458210e-02,\n",
       "         1.39429976e+00,  5.42383894e-02,  2.11058779e+00,\n",
       "         7.98561179e-01,  1.07750701e+00, -4.16745523e-01,\n",
       "        -1.74244877e-01, -5.44303666e-01, -3.53667320e-01,\n",
       "        -1.16807700e+00, -1.49608365e+00, -1.09518663e+00,\n",
       "        -9.59218064e-01, -7.30734797e-01, -4.34968115e-01,\n",
       "        -3.42453418e-01,  2.09831289e-01,  8.61639382e-01,\n",
       "         2.54512652e+00,  4.97187545e-01,  1.11709641e-01,\n",
       "        -4.51788969e-01, -1.03351017e+00, -5.91962752e-01,\n",
       "         3.00944248e-01, -1.09939185e+00, -9.64825016e-01,\n",
       "        -1.21994130e+00, -8.12035592e-01, -4.81225463e-01,\n",
       "         6.96575056e-02,  2.50481686e-01, -8.30258184e-01,\n",
       "        -4.41976804e-01, -6.45228790e-01, -1.11901618e+00,\n",
       "        -3.38248204e-01, -6.38220100e-01,  6.12470786e-02,\n",
       "        -5.41500190e-01, -8.31659921e-01, -3.88710766e-01,\n",
       "        -9.99868462e-01, -7.16717419e-01, -8.23249494e-01,\n",
       "        -5.20474122e-01, -9.57475588e-02, -3.34042991e-01,\n",
       "        -4.38832589e-02, -4.98046317e-01, -1.03210843e+00,\n",
       "        -7.61573030e-01, -8.31659921e-01, -7.20922633e-01,\n",
       "        -4.25155950e-01, -8.58292940e-01,  2.90071084e-02,\n",
       "        -5.90561014e-01, -1.00267194e+00, -9.74637181e-01,\n",
       "        -5.38696714e-01, -6.24202722e-01, -6.29809673e-01,\n",
       "        -9.03148551e-01, -2.89187380e-01, -8.41472086e-01,\n",
       "        -1.84057042e-01, -1.18349612e+00, -1.27320734e+00,\n",
       "        -9.05952027e-01, -4.53190706e-01, -6.98494827e-01,\n",
       "        -2.83580429e-01,  1.10307903e-01, -4.52849968e-02,\n",
       "         5.35034466e-01,  8.42015052e-01,  2.01420862e-01,\n",
       "        -5.36954238e-02,  4.06074586e-01,  4.86314381e-02,\n",
       "        -3.49462107e-01,  4.98589283e-01,  6.21942212e-01,\n",
       "        -3.08811710e-01,  4.35511080e-01, -8.59353940e-02,\n",
       "        -3.29837777e-01,  3.80843305e-01,  1.34137446e-01,\n",
       "         2.40669521e-01,  2.26652143e-01,  7.39688190e-01,\n",
       "         1.78818809e+00,  6.90627366e-01,  3.02345986e-01,\n",
       "         2.04750959e+00,  6.35959590e-01,  3.83646780e-01,\n",
       "         7.97159441e-01, -7.43807526e-03, -5.50971616e-02,\n",
       "        -2.14895275e-01,  3.33184218e-01,  6.52780444e-01,\n",
       "         6.03719620e-01,  5.95309193e-01,  2.71507754e-01,\n",
       "         1.21487732e+00,  8.13980295e-01,  1.61297086e+00,\n",
       "         3.04975214e+00,  1.98583312e+00,  1.92976361e+00,\n",
       "         2.33206237e+00,  2.12320343e+00,  5.60265747e-01,\n",
       "         2.36570408e+00,  2.19609380e+00,  1.23309991e+00,\n",
       "         2.02822600e-01,  8.78800974e-02, -7.47214913e-02,\n",
       "         4.39716294e-01,  3.45799859e-01,  3.31782480e-01,\n",
       "         4.88777118e-01, -1.13023008e+00, -8.72310319e-01,\n",
       "        -7.37743487e-01, -1.00267194e+00, -1.53112710e+00,\n",
       "        -1.50449408e+00, -1.30825078e+00, -1.42004907e-01,\n",
       "        -3.98522931e-01, -1.25498475e+00, -7.19180156e-02,\n",
       "        -2.17698750e-01, -1.86860518e-01,  2.49079948e-01,\n",
       "        -8.73371318e-02,  2.85525132e-01, -5.06456744e-01,\n",
       "        -4.22352474e-01, -1.02650148e+00, -3.56470796e-01,\n",
       "        -8.91934648e-01, -8.03625165e-01, -1.06715188e+00,\n",
       "        -7.13913943e-01, -4.48985493e-01, -1.09799011e+00,\n",
       "        -9.77440656e-01,  1.86001746e-01,  6.96575056e-02,\n",
       "        -1.14985441e+00, -8.37266873e-01, -1.13443529e+00,\n",
       "        -1.01809105e+00, -1.05874145e+00, -1.11621270e+00,\n",
       "        -1.37132899e+00, -1.06855362e+00, -1.15966657e+00,\n",
       "        -1.35731161e+00, -1.20171871e+00, -5.66731471e-01,\n",
       "        -8.45677300e-01, -1.13443529e+00, -1.14985441e+00,\n",
       "        -7.32136535e-01, -1.33768728e+00, -1.23956563e+00,\n",
       "        -1.36992725e+00, -2.49938720e-01, -2.35921342e-01,\n",
       "         7.57910782e-01,  2.81319918e-01,  1.46298491e+00,\n",
       "         6.47173493e-01,  1.58773958e+00,  4.73358002e-01,\n",
       "        -4.58797658e-01,  2.36850755e+00, -4.46182017e-01,\n",
       "         1.20120068e-01, -4.15343785e-01,  7.38286452e-01,\n",
       "        -3.01803020e-01, -4.12540309e-01,  1.23450165e+00,\n",
       "        -3.81702077e-01, -7.08306992e-01, -1.19330828e+00,\n",
       "        -1.12462313e+00, -1.33488380e+00, -8.82122484e-01,\n",
       "        -1.22414651e+00, -1.24657432e+00, -1.40603169e-01,\n",
       "        -1.03771538e+00, -1.42739850e+00, -1.21994130e+00,\n",
       "        -6.45228790e-01, -2.48536983e-01, -4.36369852e-01,\n",
       "        -1.11060575e+00, -8.82122484e-01, -7.40546962e-01,\n",
       "        -1.78450091e-01, -3.54728319e-02, -2.00877896e-01,\n",
       "        -1.04612581e+00, -2.14554536e-02,  8.13980295e-01,\n",
       "        -4.89635890e-01, -3.50863845e-01, -4.39173328e-01,\n",
       "        -8.54087727e-01, -9.46602424e-01, -1.27040386e+00,\n",
       "        -1.27881429e+00, -1.27741255e+00, -8.52685989e-01,\n",
       "        -4.77020250e-01, -1.33768728e+00, -1.05593797e+00,\n",
       "        -6.81673973e-01, -8.06428640e-01, -4.29361163e-01,\n",
       "        -7.55966078e-01, -9.45200686e-01, -1.96672683e-01,\n",
       "        -6.38220100e-01, -3.08811710e-01,  2.99542510e-01,\n",
       "        -7.30734797e-01, -1.33067859e+00,  1.39744397e-01,\n",
       "         4.86314381e-02, -8.49882513e-01, -6.90084400e-01,\n",
       "        -8.51284251e-01, -1.27881429e+00, -1.35590987e+00,\n",
       "        -9.25576356e-01, -1.19050481e+00, -7.65778243e-01,\n",
       "        -1.09378490e+00, -1.24657432e+00, -1.13023008e+00,\n",
       "        -1.35170466e+00, -1.33067859e+00, -6.73263546e-01,\n",
       "        -6.19997509e-01,  3.88192732e-02, -7.72786932e-01,\n",
       "        -7.08306992e-01, -4.40575066e-01, -1.30684905e+00,\n",
       "        -1.27460908e+00, -1.11481096e+00, -5.70936684e-01,\n",
       "        -3.15820399e-01, -8.94738124e-01, -7.37743487e-01,\n",
       "         4.46724983e-01, -1.07696404e+00, -1.10920401e+00,\n",
       "        -9.22772881e-01, -4.41976804e-01, -5.58321044e-01,\n",
       "        -1.09238316e+00, -8.02223427e-01, -5.21875860e-01,\n",
       "        -8.66703367e-01, -7.18119157e-01, -1.13723877e+00,\n",
       "        -3.76095126e-01, -1.83112393e-03, -9.35388521e-01,\n",
       "        -1.30791005e-01, -6.66254857e-01, -4.72815036e-01,\n",
       "        -1.61629237e-01,  7.95757703e-01,  4.60742361e-01,\n",
       "        -3.21427350e-01,  1.07845166e-02, -7.64376505e-01,\n",
       "        -8.10633854e-01, -6.94289614e-01, -1.27987529e-01,\n",
       "        -9.15764192e-01, -1.06154493e+00, -9.11558978e-01,\n",
       "         1.91949436e-02, -3.76095126e-01, -7.44752176e-01,\n",
       "        -4.99448055e-01, -3.12676184e-02, -6.76067022e-01,\n",
       "        -9.77440656e-01, -8.27454708e-01, -6.50835741e-01,\n",
       "        -3.99924669e-01, -2.93392593e-01, -5.80748849e-01,\n",
       "        -4.08335096e-01, -4.71413298e-01, -1.00407368e+00,\n",
       "        -5.61124520e-01, -7.67179981e-01, -1.12742660e+00,\n",
       "        -2.97597807e-01,  2.37408957e-03, -8.82122484e-01,\n",
       "        -9.33986783e-01, -9.48004162e-01, -9.35388521e-01,\n",
       "        -1.00407368e+00, -6.81673973e-01, -1.14284572e+00,\n",
       "        -6.45228790e-01, -9.92859772e-01,  6.93430842e-01,\n",
       "         8.64783596e-02, -1.64432713e-01,  2.37408957e-03,\n",
       "        -6.81673973e-01,  2.15438240e-01, -3.45256893e-01,\n",
       "         2.78516443e-01, -1.03210843e+00, -7.75590408e-01,\n",
       "         1.88805221e-01,  9.48887866e-02, -1.31666121e+00,\n",
       "        -1.25077953e+00, -1.35871335e+00, -4.37771590e-01,\n",
       "        -5.28884549e-01,  3.10021470e+00,  3.54877081e+00,\n",
       "         1.10307903e-01,  1.48401098e+00,  1.20366341e+00,\n",
       "         1.54708918e+00,  1.27935726e+00,  6.38763066e-01,\n",
       "         1.18123561e+00,  1.53447354e+00,  1.66904037e+00,\n",
       "         2.51989524e+00,  2.54512652e+00,  2.19048685e+00,\n",
       "         2.71053158e+00,  2.51849350e+00,  1.14899564e+00,\n",
       "         6.24745688e-01,  8.56032430e-01,  1.82603501e+00,\n",
       "         3.52808548e-01,  5.18213612e-01,  6.26147426e-01,\n",
       "         9.41538438e-01,  1.01863402e+00,  2.51428829e+00,\n",
       "         2.42738054e+00,  1.97882444e+00,  1.07470353e+00,\n",
       "         1.07330179e+00,  9.97607952e-01,  2.06433044e+00,\n",
       "         1.44756580e+00,  1.49802836e+00, -7.33197534e-02,\n",
       "         1.92696014e+00,  9.99009689e-01, -3.56470796e-01,\n",
       "         1.20085994e+00,  3.04414519e+00,  1.04106182e+00,\n",
       "         3.40999876e+00,  2.29842066e+00,  1.84145413e+00,\n",
       "         1.96060184e+00,  1.11675567e+00,  1.41392409e+00,\n",
       "         3.31782480e-01,  4.27100653e-01,  2.02822600e-01,\n",
       "         1.49101967e+00,  6.31754377e-01,  1.64521083e+00,\n",
       "         4.25698915e-01,  2.61695589e-01,  1.24291207e+00,\n",
       "         1.60175696e+00,  6.99037793e-01,  9.86394049e-01,\n",
       "        -8.73371318e-02,  4.99991021e-01,  3.52808548e-01,\n",
       "         1.48821619e+00,  7.56509044e-01,  1.93396882e+00,\n",
       "         2.99508436e+00,  1.43354842e+00,  1.32561460e+00,\n",
       "         9.62564506e-01,  5.51855320e-01,  8.68648071e-01,\n",
       "         1.56110656e+00,  1.58773958e+00,  7.20063860e-01,\n",
       "         5.30829253e-01,  7.67722947e-01,  9.33128011e-01,\n",
       "         6.71003036e-01,  7.11653433e-01,  6.47173493e-01,\n",
       "         5.72881388e-01,  8.49023741e-01,  7.67722947e-01,\n",
       "         8.91075876e-01,  6.00916145e-01,  5.01392758e-01,\n",
       "         2.86926870e-01,  5.28025777e-01,  2.79918181e-01,\n",
       "         1.87403484e-01, -3.31239515e-01,  7.94696704e-02,\n",
       "         2.07027813e-01,  6.30352639e-01,  1.21487732e+00,\n",
       "         7.67722947e-01,  2.95337297e-01,  5.09803185e-01,\n",
       "         3.04088462e-02,  2.39267783e-01, -1.39201432e-01,\n",
       "         7.69124685e-01,  1.60456043e+00,  8.44818528e-01,\n",
       "         1.71810120e+00,  7.53705568e-01,  6.40505543e-02,\n",
       "        -2.68161312e-01, -6.88682662e-01, -7.91009524e-01,\n",
       "        -3.13016923e-01,  9.62905244e-02, -2.90589118e-01,\n",
       "         3.26175529e-01, -1.68637926e-01,  7.57910782e-01,\n",
       "         1.58633784e+00,  2.38673014e+00,  7.59312520e-01,\n",
       "         9.76922623e-02, -9.01406075e-02,  1.31333970e-01,\n",
       "         6.93430842e-01,  1.18964603e+00,  2.02822600e-01,\n",
       "         3.74175354e-02,  3.42996383e-01,  2.35062570e-01,\n",
       "        -4.18147261e-01, -5.00849793e-01, -9.83047608e-01,\n",
       "        -8.65301630e-01, -6.69058333e-01]])"
      ]
     },
     "execution_count": 90,
     "metadata": {},
     "output_type": "execute_result"
    }
   ],
   "source": [
    "X_std.T"
   ]
  },
  {
   "cell_type": "markdown",
   "metadata": {},
   "source": [
    "***"
   ]
  },
  {
   "cell_type": "code",
   "execution_count": 92,
   "metadata": {},
   "outputs": [
    {
     "ename": "NameError",
     "evalue": "name 'T' is not defined",
     "output_type": "error",
     "traceback": [
      "\u001b[1;31m---------------------------------------------------------------------------\u001b[0m",
      "\u001b[1;31mNameError\u001b[0m                                 Traceback (most recent call last)",
      "\u001b[1;32m<ipython-input-92-29704cb91324>\u001b[0m in \u001b[0;36m<module>\u001b[1;34m\u001b[0m\n\u001b[1;32m----> 1\u001b[1;33m \u001b[0mT\u001b[0m\u001b[1;33m\u001b[0m\u001b[1;33m\u001b[0m\u001b[0m\n\u001b[0m",
      "\u001b[1;31mNameError\u001b[0m: name 'T' is not defined"
     ]
    }
   ],
   "source": [
    "T"
   ]
  },
  {
   "cell_type": "code",
   "execution_count": null,
   "metadata": {},
   "outputs": [],
   "source": []
  }
 ],
 "metadata": {
  "kernelspec": {
   "display_name": "Python 3",
   "language": "python",
   "name": "python3"
  },
  "language_info": {
   "codemirror_mode": {
    "name": "ipython",
    "version": 3
   },
   "file_extension": ".py",
   "mimetype": "text/x-python",
   "name": "python",
   "nbconvert_exporter": "python",
   "pygments_lexer": "ipython3",
   "version": "3.7.1"
  }
 },
 "nbformat": 4,
 "nbformat_minor": 2
}
