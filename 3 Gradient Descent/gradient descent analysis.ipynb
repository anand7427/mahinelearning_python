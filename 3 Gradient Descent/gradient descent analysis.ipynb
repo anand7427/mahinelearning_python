{
 "cells": [
  {
   "cell_type": "code",
   "execution_count": 8,
   "metadata": {},
   "outputs": [
    {
     "name": "stdout",
     "output_type": "stream",
     "text": [
      "3.0000  0.6000\n",
      "2.4000  0.4800\n",
      "1.9200  0.3840\n",
      "1.5360  0.3072\n",
      "1.2288  0.2458\n",
      "0.9830  0.1966\n",
      "0.7864  0.1573\n",
      "0.6291  0.1258\n",
      "0.5033  0.1007\n",
      "0.4027  0.0805\n"
     ]
    },
    {
     "data": {
      "text/plain": [
       "'theta = 3\\nalpha = 0.1\\ndat = []\\nfor oo in range(0,10):\\n    res = alpha * 2 * theta # update rule\\n    print(\"{0:.4f} {1:.4f}\".format(theta, res))\\n    dat.append([theta, theta ** 2])\\n    theta = theta - res'"
      ]
     },
     "execution_count": 8,
     "metadata": {},
     "output_type": "execute_result"
    }
   ],
   "source": [
    "theta=3\n",
    "alpha=0.1\n",
    "arr=[]\n",
    "for i in range(0,10):\n",
    "    res=alpha*2*theta\n",
    "    print(\"{0:.4f}  {1:.4f}\".format(theta,res))\n",
    "    arr.append([theta ,theta**2])\n",
    "    theta=theta -res\n",
    "'''theta = 3\n",
    "alpha = 0.1\n",
    "dat = []\n",
    "for oo in range(0,10):\n",
    "    res = alpha * 2 * theta # update rule\n",
    "    print(\"{0:.4f} {1:.4f}\".format(theta, res))\n",
    "    dat.append([theta, theta ** 2])\n",
    "    theta = theta - res'''"
   ]
  },
  {
   "cell_type": "code",
   "execution_count": null,
   "metadata": {},
   "outputs": [],
   "source": []
  }
 ],
 "metadata": {
  "kernelspec": {
   "display_name": "Python 3",
   "language": "python",
   "name": "python3"
  },
  "language_info": {
   "codemirror_mode": {
    "name": "ipython",
    "version": 3
   },
   "file_extension": ".py",
   "mimetype": "text/x-python",
   "name": "python",
   "nbconvert_exporter": "python",
   "pygments_lexer": "ipython3",
   "version": "3.7.1"
  }
 },
 "nbformat": 4,
 "nbformat_minor": 2
}
